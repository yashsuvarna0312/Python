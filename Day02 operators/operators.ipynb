{
 "cells": [
  {
   "cell_type": "code",
   "execution_count": 3,
   "id": "7fab0442",
   "metadata": {},
   "outputs": [
    {
     "name": "stdout",
     "output_type": "stream",
     "text": [
      "13\n",
      "7\n",
      "30\n",
      "3.3333333333333335\n",
      "3\n",
      "1\n",
      "1000\n"
     ]
    }
   ],
   "source": [
    "#operator in Python\n",
    "\n",
    "# Arithmetic Operators\n",
    "\n",
    "x = 10\n",
    "y = 3\n",
    "\n",
    "print(x+y)\n",
    "print(x-y)\n",
    "print(x*y)\n",
    "print(x/y)\n",
    "print(x//y)  # Floor division\n",
    "print(x%y)   # Modulus\n",
    "print(x**y)  # Exponentiation\n"
   ]
  },
  {
   "cell_type": "code",
   "execution_count": 4,
   "id": "10ab860e",
   "metadata": {},
   "outputs": [
    {
     "name": "stdout",
     "output_type": "stream",
     "text": [
      "False\n",
      "True\n",
      "True\n",
      "False\n",
      "True\n",
      "False\n"
     ]
    }
   ],
   "source": [
    "# Comparison Operators\n",
    "\n",
    "x = 30\n",
    "y = 20\n",
    "\n",
    "# Equal to\n",
    "result = (x == y)\n",
    "print(result)   # output: False\n",
    "\n",
    "# Not equal to\n",
    "result = (x != y)\n",
    "print(result)   # output: True\n",
    "\n",
    "# Greater than\n",
    "result = (x > y)        \n",
    "print(result)   # output: True\n",
    "\n",
    "# Less than\n",
    "result = (x < y)\n",
    "print(result)   # output: False\n",
    "\n",
    "# Greater than or equal to\n",
    "result = (x >= y)\n",
    "print(result)   # output: True\n",
    "\n",
    "# Less than or equal to\n",
    "result = (x <= y)\n",
    "print(result)   # output: False\n"
   ]
  },
  {
   "cell_type": "code",
   "execution_count": 5,
   "id": "317eeeb1",
   "metadata": {},
   "outputs": [
    {
     "name": "stdout",
     "output_type": "stream",
     "text": [
      "False\n",
      "True\n",
      "False\n"
     ]
    }
   ],
   "source": [
    "# logical Operators\n",
    "\n",
    "x = True\n",
    "y = False\n",
    "\n",
    "# Logical AND\n",
    "result = (x and y)\n",
    "print(result)  # output: False\n",
    "\n",
    "# Logical OR\n",
    "result = (x or y)\n",
    "print(result)  # output: True\n",
    "\n",
    "# Logical NOT\n",
    "result = not x\n",
    "print(result)  # output: False"
   ]
  },
  {
   "cell_type": "code",
   "execution_count": 6,
   "id": "d7b177e5",
   "metadata": {},
   "outputs": [
    {
     "name": "stdout",
     "output_type": "stream",
     "text": [
      "5\n",
      "10\n",
      "5\n",
      "25\n",
      "5.0\n",
      "1.0\n",
      "1.0\n",
      "1.0\n"
     ]
    }
   ],
   "source": [
    "# Assignment Operators\n",
    "\n",
    "x = 5\n",
    "\n",
    "# Assign\n",
    "x = 5\n",
    "print(x)  # output: 5\n",
    "\n",
    "# Add and assign\n",
    "x += 5\n",
    "print(x)  # output: 10\n",
    "\n",
    "# Subtract and assign\n",
    "x -= 5\n",
    "print(x)  # output: 5\n",
    "\n",
    "# Multiply and assign\n",
    "x *= 5\n",
    "print(x)  # output: 25\n",
    "\n",
    "# Divide and assign\n",
    "x /= 5\n",
    "print(x)  # output: 5.0\n",
    "\n",
    "# Floor divide and assign\n",
    "x //= 5 \n",
    "print(x)  # output: 1.0\n",
    "\n",
    "# Modulus and assign\n",
    "x %= 5\n",
    "print(x)  # output: 1.0\n",
    "\n",
    "# Exponentiate and assign\n",
    "x **= 5\n",
    "print(x)  # output: 1.0\n"
   ]
  },
  {
   "cell_type": "code",
   "execution_count": 7,
   "id": "f500cd9d",
   "metadata": {},
   "outputs": [
    {
     "name": "stdout",
     "output_type": "stream",
     "text": [
      "True\n",
      "True\n"
     ]
    }
   ],
   "source": [
    "# identity Operators\n",
    "\n",
    "x = [1, 2, 3]\n",
    "y = x\n",
    "z = [1, 2, 3]\n",
    "\n",
    "# is operator\n",
    "result = (x is y)\n",
    "print(result)  # output: True\n",
    "\n",
    "result = (x is not z)\n",
    "print(result)  # output: True"
   ]
  },
  {
   "cell_type": "code",
   "execution_count": 8,
   "id": "fd8c57e1",
   "metadata": {},
   "outputs": [
    {
     "name": "stdout",
     "output_type": "stream",
     "text": [
      "True\n",
      "True\n"
     ]
    }
   ],
   "source": [
    "# membership Operators\n",
    "\n",
    "x = [1, 2, 3, 4, 5]\n",
    "y = 3\n",
    "z = 6\n",
    "\n",
    "# in operator\n",
    "result = (y in x)\n",
    "print(result)  # output: True\n",
    "\n",
    "# not in operator\n",
    "result = (z not in x)\n",
    "print(result)  # output: True"
   ]
  }
 ],
 "metadata": {
  "kernelspec": {
   "display_name": "Python 3",
   "language": "python",
   "name": "python3"
  },
  "language_info": {
   "codemirror_mode": {
    "name": "ipython",
    "version": 3
   },
   "file_extension": ".py",
   "mimetype": "text/x-python",
   "name": "python",
   "nbconvert_exporter": "python",
   "pygments_lexer": "ipython3",
   "version": "3.13.4"
  }
 },
 "nbformat": 4,
 "nbformat_minor": 5
}
