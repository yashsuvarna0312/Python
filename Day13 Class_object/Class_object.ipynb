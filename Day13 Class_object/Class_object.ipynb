{
 "cells": [
  {
   "cell_type": "code",
   "execution_count": 1,
   "id": "c79a2465",
   "metadata": {},
   "outputs": [],
   "source": [
    "#class and object\n",
    "\n",
    "class Dog:\n",
    "    def info():\n",
    "        print(\"This is a dog class\")\n",
    "        print(\"Dogs are loyal animals\")"
   ]
  },
  {
   "cell_type": "code",
   "execution_count": 2,
   "id": "04aaddf5",
   "metadata": {},
   "outputs": [
    {
     "name": "stdout",
     "output_type": "stream",
     "text": [
      "This is a dog class\n",
      "Dogs are loyal animals\n"
     ]
    }
   ],
   "source": [
    "# create a object\n",
    "obj = Dog\n",
    "obj.info()"
   ]
  },
  {
   "cell_type": "code",
   "execution_count": 12,
   "id": "cb893324",
   "metadata": {},
   "outputs": [],
   "source": [
    "class client:\n",
    "    def client_info(name):\n",
    "        print(\"The Client Name : \", name)\n",
    "        \n",
    "    def client_city(city):\n",
    "        print(\"The Client City : \", city)"
   ]
  },
  {
   "cell_type": "code",
   "execution_count": 13,
   "id": "e5b65c31",
   "metadata": {},
   "outputs": [
    {
     "name": "stdout",
     "output_type": "stream",
     "text": [
      "The Client Name :  Kahan\n",
      "The Client City :  pune\n"
     ]
    }
   ],
   "source": [
    "c = client\n",
    "c.client_info(\"Kahan\")\n",
    "c.client_city(\"pune\")"
   ]
  },
  {
   "cell_type": "code",
   "execution_count": 16,
   "id": "37c01c4e",
   "metadata": {},
   "outputs": [],
   "source": [
    "# attributes \n",
    "\n",
    "class creditcard:\n",
    "    def info(self,card_name,card_number,card_expiration_date):\n",
    "        self.card_name = card_name\n",
    "        print(f\"Card Name: {card_name}\")\n",
    "        print(f\"Card Number: {card_number}\")\n",
    "        print(f\"Card Expiration Date: {card_expiration_date}\")\n",
    "        \n",
    "    def Customer_info(self,name):\n",
    "        print(f\"Customer Name: {name}\")\n",
    "        print(f\"Card Name: {self.card_name}\")"
   ]
  },
  {
   "cell_type": "code",
   "execution_count": 17,
   "id": "e42ffcbc",
   "metadata": {},
   "outputs": [
    {
     "name": "stdout",
     "output_type": "stream",
     "text": [
      "Card Name: HDFC\n",
      "Card Number: 1234-5678-9012-9090\n",
      "Card Expiration Date: 30/2025\n",
      "Customer Name: Kahan\n",
      "Card Name: HDFC\n"
     ]
    }
   ],
   "source": [
    "# create a object\n",
    "\n",
    "cc = creditcard()\n",
    "cc.info('HDFC', '1234-5678-9012-9090','30/2025')\n",
    "cc.Customer_info(\"Kahan\")"
   ]
  }
 ],
 "metadata": {
  "kernelspec": {
   "display_name": "Python 3",
   "language": "python",
   "name": "python3"
  },
  "language_info": {
   "codemirror_mode": {
    "name": "ipython",
    "version": 3
   },
   "file_extension": ".py",
   "mimetype": "text/x-python",
   "name": "python",
   "nbconvert_exporter": "python",
   "pygments_lexer": "ipython3",
   "version": "3.13.4"
  }
 },
 "nbformat": 4,
 "nbformat_minor": 5
}
