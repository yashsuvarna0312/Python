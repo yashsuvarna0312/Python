{
 "cells": [
  {
   "cell_type": "code",
   "execution_count": 1,
   "id": "ec62c3bc",
   "metadata": {},
   "outputs": [
    {
     "name": "stdout",
     "output_type": "stream",
     "text": [
      "No Match \n"
     ]
    }
   ],
   "source": [
    "# using match()\n",
    "\n",
    "import re\n",
    "\n",
    "text = \"Codes with Pankaj\"\n",
    "#test_data = input(\"Enter Search Text \")\n",
    "pattern = r\"Codes1\"\n",
    "\n",
    "match = re.match(pattern,text)\n",
    "if match:\n",
    "    print(\"Match Found - \",match.group())\n",
    "else:\n",
    "    print(\"No Match \")    "
   ]
  },
  {
   "cell_type": "code",
   "execution_count": 2,
   "id": "88ce2fed",
   "metadata": {},
   "outputs": [
    {
     "name": "stdout",
     "output_type": "stream",
     "text": [
      "Match Found -  Pankaj\n"
     ]
    }
   ],
   "source": [
    "# search()\n",
    "\n",
    "pattern = r\"Pankaj\"\n",
    "\n",
    "match = re.search(pattern,text)\n",
    "\n",
    "if match:\n",
    "    print(\"Match Found - \",match.group())\n",
    "else:\n",
    "    print(\"No Match \") "
   ]
  },
  {
   "cell_type": "code",
   "execution_count": 3,
   "id": "6cbd554a",
   "metadata": {},
   "outputs": [
    {
     "name": "stdout",
     "output_type": "stream",
     "text": [
      "Match Found -  Pankaj\n"
     ]
    }
   ],
   "source": [
    "# re.ignorecase\n",
    "\n",
    "pattern = r\"pankaj\"\n",
    "\n",
    "match = re.search(pattern,text,re.IGNORECASE)\n",
    "\n",
    "if match:\n",
    "    print(\"Match Found - \",match.group())\n",
    "else:\n",
    "    print(\"No Match \") "
   ]
  },
  {
   "cell_type": "code",
   "execution_count": 4,
   "id": "93d0d7c1",
   "metadata": {},
   "outputs": [
    {
     "name": "stdout",
     "output_type": "stream",
     "text": [
      "['match', 'match']\n"
     ]
    }
   ],
   "source": [
    "text = \"match here \\nmatch there\\nnot match is not found\"\n",
    "\n",
    "# re.multiline - start of each line with match\n",
    "\n",
    "pattern = r\"^match\"\n",
    "\n",
    "match = re.findall(pattern,text,re.MULTILINE)\n",
    "\n",
    "print(match)"
   ]
  },
  {
   "cell_type": "code",
   "execution_count": 5,
   "id": "b9dcfebe",
   "metadata": {},
   "outputs": [
    {
     "name": "stdout",
     "output_type": "stream",
     "text": [
      "['example@email.com', 'support@company.org']\n"
     ]
    }
   ],
   "source": [
    "text = \"Contact us at example@email.com or support@company.org\"\n",
    "pattern = r\"[a-zA-Z0-9._%+-]+@[a-zA-Z0-9.-]+\\.[a-zA-Z]{2,}\"\n",
    "\n",
    "emails = re.findall(pattern, text)\n",
    "print(emails)  # Output: ['example@email.com', 'support@company.org']"
   ]
  },
  {
   "cell_type": "code",
   "execution_count": 6,
   "id": "54a97c0e",
   "metadata": {},
   "outputs": [
    {
     "name": "stdout",
     "output_type": "stream",
     "text": [
      "Phone number found: (+91) 8965478569\n"
     ]
    }
   ],
   "source": [
    "# text = \"Call me at (123) 456-7890\"\n",
    "# pattern = r\"\\(\\d{3}\\) \\d{3}-\\d{4}\"\n",
    "\n",
    "text = \"Call me at (+91) 8965478569\"\n",
    "pattern = r\"\\(+.\\d{2}\\) \\d{10}\"\n",
    "\n",
    "match = re.search(pattern, text)\n",
    "\n",
    "if match:\n",
    "    print(\"Phone number found:\", match.group())  # Output: Phone number found: (123) 456-7890\n",
    "else:\n",
    "    print(\"No phone number found\")"
   ]
  },
  {
   "cell_type": "code",
   "execution_count": 7,
   "id": "e55701c4",
   "metadata": {},
   "outputs": [
    {
     "name": "stdout",
     "output_type": "stream",
     "text": [
      "Phone number found: (+91) 8965478569\n"
     ]
    }
   ],
   "source": [
    "# text = \"Call me at (123) 456-7890\"\n",
    "# pattern = r\"\\(\\d{3}\\) \\d{3}-\\d{4}\"\n",
    "\n",
    "text = \"Call me at (+91) 8965478569\"\n",
    "pattern = r\"\\(+.\\d{2}\\) \\d{10}\"\n",
    "\n",
    "match = re.search(pattern, text)\n",
    "\n",
    "if match:\n",
    "    print(\"Phone number found:\", match.group())  # Output: Phone number found: (123) 456-7890\n",
    "else:\n",
    "    print(\"No phone number found\")"
   ]
  }
 ],
 "metadata": {
  "kernelspec": {
   "display_name": "Python 3",
   "language": "python",
   "name": "python3"
  },
  "language_info": {
   "codemirror_mode": {
    "name": "ipython",
    "version": 3
   },
   "file_extension": ".py",
   "mimetype": "text/x-python",
   "name": "python",
   "nbconvert_exporter": "python",
   "pygments_lexer": "ipython3",
   "version": "3.13.4"
  }
 },
 "nbformat": 4,
 "nbformat_minor": 5
}
