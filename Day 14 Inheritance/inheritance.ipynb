{
 "cells": [
  {
   "cell_type": "code",
   "execution_count": null,
   "id": "ab02b3b3",
   "metadata": {},
   "outputs": [],
   "source": [
    "# inheritance in python\n",
    "\n",
    "# type of inheritance\n",
    "# single inheritance\n",
    "# multiple inheritance\n",
    "# multilevel inheritance\n",
    "# hierarchical inheritance\n",
    "# hybrid inheritance"
   ]
  },
  {
   "cell_type": "code",
   "execution_count": 1,
   "id": "259474a6",
   "metadata": {},
   "outputs": [],
   "source": [
    "# single inheritance\n",
    "\n",
    "class Customer:\n",
    "    def CustomerDetails(self):\n",
    "        print(\"Customer Details\")   \n",
    "        print(\"Name: John Doe\")\n",
    "        print(\"Age: 30\")\n",
    "        print(\"address: 123 Main St\")\n",
    "\n",
    "class Order(Customer):\n",
    "    def OrderDetails(self):\n",
    "        print(\"Order Details\")\n",
    "        print(\"Order ID: 12345\")\n",
    "        print(\"Product: Laptop\")\n",
    "        print(\"Quantity: 1\")\n"
   ]
  },
  {
   "cell_type": "code",
   "execution_count": 2,
   "id": "14b594f3",
   "metadata": {},
   "outputs": [
    {
     "name": "stdout",
     "output_type": "stream",
     "text": [
      "Customer Details\n",
      "Name: John Doe\n",
      "Age: 30\n",
      "address: 123 Main St\n",
      "Order Details\n",
      "Order ID: 12345\n",
      "Product: Laptop\n",
      "Quantity: 1\n"
     ]
    }
   ],
   "source": [
    "# create an instance of Product\n",
    "\n",
    "order = Order()\n",
    "# call methods from both Customer and Product classes\n",
    "order.CustomerDetails()\n",
    "order.OrderDetails()"
   ]
  },
  {
   "cell_type": "code",
   "execution_count": 5,
   "id": "bad8b271",
   "metadata": {},
   "outputs": [],
   "source": [
    "# multiple inheritance\n",
    "class Course:\n",
    "    def CourseDetails(self):\n",
    "        print(\"Course Details\")\n",
    "        print(\"Course Name: Python Programming\")\n",
    "        print(\"Duration: 3 months\")\n",
    "        print(\"Instructor: Jane Smith\")\n",
    "class Student:\n",
    "    def StudentDetails(self):\n",
    "        print(\"Student Details\")\n",
    "        print(\"Student ID: 67890\")\n",
    "        print(\"Enrolled Courses: Python Programming, Data Science\")\n",
    "        print(\"Contact:900-123-4567\")\n",
    "class Enrollment(Course, Student):\n",
    "    def EnrollmentDetails(self):\n",
    "        print(\"Enrollment Details\")\n",
    "        print(\"Enrollment ID: 12345\")\n",
    "        print(\"Status: Active\")\n",
    "    "
   ]
  },
  {
   "cell_type": "code",
   "execution_count": 6,
   "id": "243d4d87",
   "metadata": {},
   "outputs": [
    {
     "name": "stdout",
     "output_type": "stream",
     "text": [
      "Course Details\n",
      "Course Name: Python Programming\n",
      "Duration: 3 months\n",
      "Instructor: Jane Smith\n",
      "Student Details\n",
      "Student ID: 67890\n",
      "Enrolled Courses: Python Programming, Data Science\n",
      "Contact:900-123-4567\n",
      "Enrollment Details\n",
      "Enrollment ID: 12345\n",
      "Status: Active\n"
     ]
    }
   ],
   "source": [
    "# create an instance of Enrollment\n",
    "enrollment = Enrollment()\n",
    "# call methods from both Course and Student classes\n",
    "enrollment.CourseDetails()\n",
    "enrollment.StudentDetails() \n",
    "enrollment.EnrollmentDetails()"
   ]
  },
  {
   "cell_type": "code",
   "execution_count": 7,
   "id": "f9279a25",
   "metadata": {},
   "outputs": [],
   "source": [
    "# multilavel inheritance\n",
    "class Credicard:\n",
    "    def CreditCardDetails(self):\n",
    "        print(\"Credit Card Details\")\n",
    "        print(\"Card Number: 1234-5678-9012-3456\")\n",
    "        print(\"Expiry Date: 12/25\")\n",
    "class client(Credicard):\n",
    "    def ClientDetails(self):\n",
    "        print(\"Client Details\")\n",
    "        print(\"Name: Jane Smith\")\n",
    "        print(\"Age: 28\")\n",
    "class bank(client):\n",
    "    def BankDetails(self):\n",
    "        print(\"Bank Details\")\n",
    "        print(\"Bank Name: ABC Bank\")\n",
    "        print(\"Account Number: 9876543210\")"
   ]
  },
  {
   "cell_type": "code",
   "execution_count": 8,
   "id": "f581b27f",
   "metadata": {},
   "outputs": [
    {
     "name": "stdout",
     "output_type": "stream",
     "text": [
      "Credit Card Details\n",
      "Card Number: 1234-5678-9012-3456\n",
      "Expiry Date: 12/25\n",
      "Client Details\n",
      "Name: Jane Smith\n",
      "Age: 28\n",
      "Bank Details\n",
      "Bank Name: ABC Bank\n",
      "Account Number: 9876543210\n"
     ]
    }
   ],
   "source": [
    "bank_instance = bank()\n",
    "bank_instance.CreditCardDetails()\n",
    "bank_instance.ClientDetails()\n",
    "bank_instance.BankDetails()"
   ]
  },
  {
   "cell_type": "code",
   "execution_count": 9,
   "id": "40e6154f",
   "metadata": {},
   "outputs": [
    {
     "name": "stdout",
     "output_type": "stream",
     "text": [
      "Vehicle Details\n",
      "Type: Car\n",
      "Model: Toyota\n",
      "Car Details\n",
      "Color: Red\n",
      "Year: 2020\n",
      "Vehicle Details\n",
      "Type: Car\n",
      "Model: Toyota\n",
      "Bike Details\n",
      "Color: Blue\n",
      "Year: 2019\n"
     ]
    }
   ],
   "source": [
    "# hierarchical inheritance\n",
    "class Vehicle:\n",
    "    def VehicleDetails(self):\n",
    "        print(\"Vehicle Details\")\n",
    "        print(\"Type: Car\")\n",
    "        print(\"Model: Toyota\")\n",
    "class Car(Vehicle):\n",
    "    def CarDetails(self):\n",
    "        print(\"Car Details\")\n",
    "        print(\"Color: Red\")\n",
    "        print(\"Year: 2020\")\n",
    "class Bike(Vehicle):\n",
    "    def BikeDetails(self):\n",
    "        print(\"Bike Details\")\n",
    "        print(\"Color: Blue\")\n",
    "        print(\"Year: 2019\")\n",
    "car_instance = Car()\n",
    "car_instance.VehicleDetails()\n",
    "car_instance.CarDetails()\n",
    "bike_instance = Bike()\n",
    "bike_instance.VehicleDetails()\n",
    "bike_instance.BikeDetails()"
   ]
  },
  {
   "cell_type": "code",
   "execution_count": 12,
   "id": "63ce55a8",
   "metadata": {},
   "outputs": [],
   "source": [
    "# hybrid inheritance\n",
    "class Books:\n",
    "    def BookDetails(self):\n",
    "        print(\"Book Details\")\n",
    "        print(\"Title: Python Programming\")\n",
    "        print(\"Author: John Smith\")\n",
    "class Magazine(Books):\n",
    "    def MagazineDetails(self):\n",
    "        print(\"Magazine Details\")\n",
    "        print(\"Title: Tech Monthly\")\n",
    "        print(\"Issue: January 2023\")\n",
    "class Newspaper(Books):\n",
    "    def NewspaperDetails(self):\n",
    "        print(\"Newspaper Details\")\n",
    "        print(\"Title: Daily News\")\n",
    "        print(\"Date: 01/01/2023\")\n",
    "class Library(Magazine, Newspaper):\n",
    "    def LibraryDetails(self):\n",
    "        print(\"Library Details\")\n",
    "        print(\"Location: City Center\")\n",
    "        print(\"Opening Hours: 9 AM - 5 PM\")"
   ]
  },
  {
   "cell_type": "code",
   "execution_count": 13,
   "id": "19fff0a6",
   "metadata": {},
   "outputs": [
    {
     "name": "stdout",
     "output_type": "stream",
     "text": [
      "Book Details\n",
      "Title: Python Programming\n",
      "Author: John Smith\n",
      "Magazine Details\n",
      "Title: Tech Monthly\n",
      "Issue: January 2023\n",
      "Newspaper Details\n",
      "Title: Daily News\n",
      "Date: 01/01/2023\n"
     ]
    }
   ],
   "source": [
    "Library_instance = Library()\n",
    "Library_instance.BookDetails()\n",
    "Library_instance.MagazineDetails()\n",
    "Library_instance.NewspaperDetails()"
   ]
  }
 ],
 "metadata": {
  "kernelspec": {
   "display_name": "Python 3",
   "language": "python",
   "name": "python3"
  },
  "language_info": {
   "codemirror_mode": {
    "name": "ipython",
    "version": 3
   },
   "file_extension": ".py",
   "mimetype": "text/x-python",
   "name": "python",
   "nbconvert_exporter": "python",
   "pygments_lexer": "ipython3",
   "version": "3.13.4"
  }
 },
 "nbformat": 4,
 "nbformat_minor": 5
}
