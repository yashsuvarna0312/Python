{
 "cells": [
  {
   "cell_type": "code",
   "execution_count": 3,
   "id": "473ac464",
   "metadata": {},
   "outputs": [
    {
     "name": "stdout",
     "output_type": "stream",
     "text": [
      "\n",
      "--- output\n",
      "\n",
      "samosa = 300\n",
      "kachori = 200\n",
      "fafda = 100\n",
      "jalebi = 100\n"
     ]
    }
   ],
   "source": [
    "# Step 1\n",
    "product_names = []\n",
    "product_prices = []\n",
    "\n",
    "# Step 2\n",
    "size = int(input(\"Enter Product List Size : \"))\n",
    "\n",
    "# Step 3\n",
    "for i in range(size):\n",
    "    name = input(f\"Enter Product {i+1} -\\n\")\n",
    "    product_names.append(name)\n",
    "\n",
    "# Step 4\n",
    "for name in product_names:\n",
    "    price = input(f\"Enter {name} Price :\\n\")\n",
    "    price = price.replace('/-', '').strip()  # Remove '/-' and whitespace\n",
    "    product_prices.append(int(price))\n",
    "\n",
    "# Step 5\n",
    "print(\"\\n--- output\\n\")\n",
    "for i in range(size):\n",
    "    print(f\"{product_names[i].lower()} = {product_prices[i]}\")\n"
   ]
  },
  {
   "cell_type": "code",
   "execution_count": 4,
   "id": "27a82b10",
   "metadata": {},
   "outputs": [
    {
     "name": "stdout",
     "output_type": "stream",
     "text": [
      "-------Out put -------\n",
      "\n",
      "1. Samosa = 300/-\n",
      "2. Kachori = 100/-\n",
      "3. Fafda = 100/-\n",
      "4. Jalebi = 200/-\n",
      "-------------------\n",
      "Total = 700\n",
      "GST = 18.0%\n",
      "-------------------\n",
      "Final Total = 826/-\n",
      "-------------------\n"
     ]
    }
   ],
   "source": [
    "# Step 1\n",
    "product_names = []\n",
    "product_prices = []\n",
    "\n",
    "# Step 2\n",
    "size = int(input(\"Enter Product List Size : \"))\n",
    "\n",
    "# Step 3\n",
    "for i in range(size):\n",
    "    name = input(f\"Enter Product {i+1} -\\n\")\n",
    "    product_names.append(name)\n",
    "\n",
    "# Step 4\n",
    "for name in product_names:\n",
    "    price = input(f\"Enter {name} Price :\\n\")\n",
    "    price = price.replace('/-', '').strip()\n",
    "    product_prices.append(int(price))\n",
    "\n",
    "# Step 5\n",
    "choice = input(\"Do You Want to add GST [Y/N] : \").strip().upper()\n",
    "gst_percent = 0\n",
    "if choice == 'Y':\n",
    "    gst_percent = float(input(\"Enter GST % = \"))\n",
    "\n",
    "# Step 6\n",
    "total = sum(product_prices)\n",
    "gst_amount = (total * gst_percent) / 100\n",
    "final_total = int(total + gst_amount)\n",
    "\n",
    "# Step 7\n",
    "print(\"-------Out put -------\\n\")\n",
    "for i in range(size):\n",
    "    print(f\"{i+1}. {product_names[i]} = {product_prices[i]}/-\")\n",
    "\n",
    "print(\"-------------------\")\n",
    "print(f\"Total = {total}\")\n",
    "print(f\"GST = {gst_percent}%\")\n",
    "print(\"-------------------\")\n",
    "print(f\"Final Total = {final_total}/-\")\n",
    "print(\"-------------------\")\n"
   ]
  },
  {
   "cell_type": "code",
   "execution_count": null,
   "id": "0bde1e9a",
   "metadata": {},
   "outputs": [],
   "source": []
  }
 ],
 "metadata": {
  "kernelspec": {
   "display_name": "Python 3",
   "language": "python",
   "name": "python3"
  },
  "language_info": {
   "codemirror_mode": {
    "name": "ipython",
    "version": 3
   },
   "file_extension": ".py",
   "mimetype": "text/x-python",
   "name": "python",
   "nbconvert_exporter": "python",
   "pygments_lexer": "ipython3",
   "version": "3.11.0"
  }
 },
 "nbformat": 4,
 "nbformat_minor": 5
}
