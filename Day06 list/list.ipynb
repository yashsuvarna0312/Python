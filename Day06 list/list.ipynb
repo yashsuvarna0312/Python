{
 "cells": [
  {
   "cell_type": "code",
   "execution_count": 1,
   "id": "405205da",
   "metadata": {},
   "outputs": [
    {
     "name": "stdout",
     "output_type": "stream",
     "text": [
      "[]\n",
      "<class 'list'>\n"
     ]
    }
   ],
   "source": [
    "#list\n",
    "\n",
    "# create a empty list\n",
    "\n",
    "data = []\n",
    "print(data)\n",
    "\n",
    "# check the type of data\n",
    "print(type(data))"
   ]
  },
  {
   "cell_type": "code",
   "execution_count": 2,
   "id": "69e82e7d",
   "metadata": {},
   "outputs": [
    {
     "name": "stdout",
     "output_type": "stream",
     "text": [
      "[1, 2, 3, 4, 5]\n"
     ]
    }
   ],
   "source": [
    "#create a list using data\n",
    "\n",
    "data = [1, 2, 3, 4, 5]\n",
    "print(data)"
   ]
  },
  {
   "cell_type": "code",
   "execution_count": 6,
   "id": "c87f2d29",
   "metadata": {},
   "outputs": [
    {
     "name": "stdout",
     "output_type": "stream",
     "text": [
      "['apple', 'banana', 'cherry', 'date', 'elachi banana ']\n"
     ]
    }
   ],
   "source": [
    "#create a string list\n",
    "fruits = ['apple', 'banana', 'cherry', 'date', 'elachi banana ']\n",
    "print(fruits)\n"
   ]
  },
  {
   "cell_type": "code",
   "execution_count": 7,
   "id": "fc04a6ff",
   "metadata": {},
   "outputs": [
    {
     "name": "stdout",
     "output_type": "stream",
     "text": [
      "['apple', 'banana', 'cherry', 'date', 'elachi banana ', 'orange']\n"
     ]
    }
   ],
   "source": [
    "#adding new item into the list\n",
    "\n",
    "new_item = 'orange'\n",
    "fruits.append(new_item)\n",
    "print(fruits)\n"
   ]
  },
  {
   "cell_type": "code",
   "execution_count": null,
   "id": "40af951b",
   "metadata": {},
   "outputs": [],
   "source": [
    "# add 3 item into list\n",
    "\n",
    "new_items = ['kiwi', 'mango', 'papaya']\n",
    "fruits.extend(new_items)\n"
   ]
  },
  {
   "cell_type": "code",
   "execution_count": 12,
   "id": "f13c3cab",
   "metadata": {},
   "outputs": [
    {
     "name": "stdout",
     "output_type": "stream",
     "text": [
      "['apple', 'banana', 'cherry', 'date', 'elachi banana ', 'orange', 'kiwi', 'mango', 'papaya', 'kiwi', 'mango', 'papaya', 'kiwi', 'mango', 'papaya', 'kiwi', 'mango', 'papaya']\n"
     ]
    }
   ],
   "source": [
    "print(fruits)"
   ]
  },
  {
   "cell_type": "code",
   "execution_count": 17,
   "id": "464ac08d",
   "metadata": {},
   "outputs": [
    {
     "name": "stdout",
     "output_type": "stream",
     "text": [
      "['apple', 'cherry', 'date', 'elachi banana ', 'orange', 'kiwi', 'papaya', 'kiwi', 'papaya', 'kiwi', 'papaya', 'kiwi', 'papaya']\n"
     ]
    }
   ],
   "source": [
    "# remove\n",
    "fruits.remove('mango')\n",
    "print(fruits)"
   ]
  },
  {
   "cell_type": "code",
   "execution_count": 18,
   "id": "1983735a",
   "metadata": {},
   "outputs": [
    {
     "name": "stdout",
     "output_type": "stream",
     "text": [
      "apple\n",
      "cherry\n",
      "date\n",
      "elachi banana \n",
      "orange\n",
      "kiwi\n",
      "papaya\n",
      "kiwi\n",
      "papaya\n",
      "kiwi\n",
      "papaya\n",
      "kiwi\n",
      "papaya\n"
     ]
    }
   ],
   "source": [
    "for i in fruits:\n",
    "    print(i)\n",
    "    "
   ]
  },
  {
   "cell_type": "code",
   "execution_count": null,
   "id": "4480873d",
   "metadata": {},
   "outputs": [
    {
     "name": "stdout",
     "output_type": "stream",
     "text": [
      "13\n"
     ]
    }
   ],
   "source": [
    "# size of the list\n",
    "len(fruits)                                             "
   ]
  },
  {
   "cell_type": "code",
   "execution_count": 32,
   "id": "c7ab9339",
   "metadata": {},
   "outputs": [
    {
     "name": "stdout",
     "output_type": "stream",
     "text": [
      "papaya\n"
     ]
    }
   ],
   "source": [
    "# access item from list\n",
    "\n",
    "print(fruits[12])  \n",
    "\n"
   ]
  }
 ],
 "metadata": {
  "kernelspec": {
   "display_name": "Python 3",
   "language": "python",
   "name": "python3"
  },
  "language_info": {
   "codemirror_mode": {
    "name": "ipython",
    "version": 3
   },
   "file_extension": ".py",
   "mimetype": "text/x-python",
   "name": "python",
   "nbconvert_exporter": "python",
   "pygments_lexer": "ipython3",
   "version": "3.13.4"
  }
 },
 "nbformat": 4,
 "nbformat_minor": 5
}
