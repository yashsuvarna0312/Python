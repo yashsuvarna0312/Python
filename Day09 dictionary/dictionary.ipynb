{
 "cells": [
  {
   "cell_type": "code",
   "execution_count": null,
   "id": "a1f3a3c2",
   "metadata": {},
   "outputs": [],
   "source": [
    "# Dictionary in Python\n",
    "# A dictionary is a collection of key-value pairs"
   ]
  },
  {
   "cell_type": "code",
   "execution_count": 1,
   "id": "899fdf1c",
   "metadata": {},
   "outputs": [
    {
     "name": "stdout",
     "output_type": "stream",
     "text": [
      "John\n",
      "30\n"
     ]
    }
   ],
   "source": [
    "#example of a dictionary\n",
    "data = {'name': 'John', 'age': 30, 'city': 'New York'}\n",
    "# Accessing values in a dictionary\n",
    "print(data['name']) \n",
    "print(data['age']) # Output: John"
   ]
  },
  {
   "cell_type": "code",
   "execution_count": 2,
   "id": "6405198a",
   "metadata": {},
   "outputs": [
    {
     "name": "stdout",
     "output_type": "stream",
     "text": [
      "{'name': 'John', 'age': 30, 'city': 'New York', 'job': 'Engineer'}\n"
     ]
    }
   ],
   "source": [
    "#adding a new key-value pair\n",
    "data['job'] = 'Engineer'\n",
    "print(data)"
   ]
  },
  {
   "cell_type": "code",
   "execution_count": 4,
   "id": "33537aaf",
   "metadata": {},
   "outputs": [
    {
     "name": "stdout",
     "output_type": "stream",
     "text": [
      "{'name': 'John', 'age': 31, 'city': 'New York', 'job': 'Engineer'}\n"
     ]
    }
   ],
   "source": [
    "#updating an existing key-value pair\n",
    "data['age'] = 31\n",
    "print(data)"
   ]
  },
  {
   "cell_type": "code",
   "execution_count": 5,
   "id": "e98f759c",
   "metadata": {},
   "outputs": [
    {
     "name": "stdout",
     "output_type": "stream",
     "text": [
      "dict_keys(['name', 'age', 'city', 'job'])\n"
     ]
    }
   ],
   "source": [
    "# print all keys in the dictionary\n",
    "print(data.keys())"
   ]
  },
  {
   "cell_type": "code",
   "execution_count": 6,
   "id": "e17338db",
   "metadata": {},
   "outputs": [
    {
     "name": "stdout",
     "output_type": "stream",
     "text": [
      "dict_values(['John', 31, 'New York', 'Engineer'])\n"
     ]
    }
   ],
   "source": [
    "# print all values in the dictionary\n",
    "print(data.values())"
   ]
  },
  {
   "cell_type": "code",
   "execution_count": 7,
   "id": "e93def25",
   "metadata": {},
   "outputs": [
    {
     "name": "stdout",
     "output_type": "stream",
     "text": [
      "dict_items([('name', 'John'), ('age', 31), ('city', 'New York'), ('job', 'Engineer')])\n"
     ]
    }
   ],
   "source": [
    "# print all keys and values in the dictionary\n",
    "print(data.items())"
   ]
  },
  {
   "cell_type": "code",
   "execution_count": 8,
   "id": "bb482dc0",
   "metadata": {},
   "outputs": [
    {
     "name": "stdout",
     "output_type": "stream",
     "text": [
      "{'name': 'John', 'age': 31, 'job': 'Engineer'}\n"
     ]
    }
   ],
   "source": [
    "#removing a key-value pair\n",
    "del data['city']\n",
    "print(data)"
   ]
  },
  {
   "cell_type": "code",
   "execution_count": 9,
   "id": "e995e5ae",
   "metadata": {},
   "outputs": [
    {
     "name": "stdout",
     "output_type": "stream",
     "text": [
      "John\n"
     ]
    }
   ],
   "source": [
    "# using the get method to access a value\n",
    "print(data.get('name'))  # Output: John"
   ]
  },
  {
   "cell_type": "code",
   "execution_count": 10,
   "id": "656f6ce5",
   "metadata": {},
   "outputs": [
    {
     "name": "stdout",
     "output_type": "stream",
     "text": [
      "name: John\n",
      "age: 31\n",
      "job: Engineer\n"
     ]
    }
   ],
   "source": [
    "# print all keys in the dictionary using a loop\n",
    "for key, value in data.items():\n",
    "    print(f\"{key}: {value}\")"
   ]
  }
 ],
 "metadata": {
  "kernelspec": {
   "display_name": "Python 3",
   "language": "python",
   "name": "python3"
  },
  "language_info": {
   "codemirror_mode": {
    "name": "ipython",
    "version": 3
   },
   "file_extension": ".py",
   "mimetype": "text/x-python",
   "name": "python",
   "nbconvert_exporter": "python",
   "pygments_lexer": "ipython3",
   "version": "3.13.4"
  }
 },
 "nbformat": 4,
 "nbformat_minor": 5
}
