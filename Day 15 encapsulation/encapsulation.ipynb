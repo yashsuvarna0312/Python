{
 "cells": [
  {
   "cell_type": "code",
   "execution_count": 1,
   "id": "669a0618",
   "metadata": {},
   "outputs": [],
   "source": [
    "class students:\n",
    "    def __init__(self, name, age):\n",
    "        self.name = name\n",
    "        self.age = age\n",
    "\n",
    "    def print_age(self):\n",
    "        print(f\"{self.name} is {self.age} years old.\")\n",
    "\n",
    "    def print_name(self):\n",
    "        print(f\"Name: {self.name}\")"
   ]
  },
  {
   "cell_type": "code",
   "execution_count": 2,
   "id": "b22ec340",
   "metadata": {},
   "outputs": [
    {
     "name": "stdout",
     "output_type": "stream",
     "text": [
      "Name: Alice\n",
      "Alice is 20 years old.\n"
     ]
    }
   ],
   "source": [
    "# object instantiation\n",
    "student1 = students(\"Alice\", 20)\n",
    "\n",
    "#accessing attributes and methods\n",
    "student1.print_name()  # Output: Name: Alice\n",
    "student1.print_age()   # Output: Alice is 20 years old."
   ]
  },
  {
   "cell_type": "code",
   "execution_count": null,
   "id": "8c83adda",
   "metadata": {},
   "outputs": [],
   "source": []
  }
 ],
 "metadata": {
  "kernelspec": {
   "display_name": "Python 3",
   "language": "python",
   "name": "python3"
  },
  "language_info": {
   "codemirror_mode": {
    "name": "ipython",
    "version": 3
   },
   "file_extension": ".py",
   "mimetype": "text/x-python",
   "name": "python",
   "nbconvert_exporter": "python",
   "pygments_lexer": "ipython3",
   "version": "3.13.4"
  }
 },
 "nbformat": 4,
 "nbformat_minor": 5
}
