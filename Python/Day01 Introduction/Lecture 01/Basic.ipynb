{
 "cells": [
  {
   "cell_type": "code",
   "execution_count": 2,
   "id": "4184aefd",
   "metadata": {},
   "outputs": [
    {
     "name": "stdout",
     "output_type": "stream",
     "text": [
      "Welcome to Youtube.com\n",
      "Welcome to Youtube.com\n",
      "8563\n"
     ]
    }
   ],
   "source": [
    "print(\"Welcome to Youtube.com\")\n",
    "print('Welcome to Youtube.com')\n",
    "print(8563)"
   ]
  },
  {
   "cell_type": "code",
   "execution_count": 3,
   "id": "e60a6d5f",
   "metadata": {},
   "outputs": [
    {
     "name": "stdout",
     "output_type": "stream",
     "text": [
      "My number is: 8765\n"
     ]
    }
   ],
   "source": [
    "print(\"My number is:\",8765)"
   ]
  },
  {
   "cell_type": "code",
   "execution_count": 4,
   "id": "33f0cf2b",
   "metadata": {},
   "outputs": [
    {
     "name": "stdout",
     "output_type": "stream",
     "text": [
      "my name is :  John\n",
      "my age is :  30\n",
      "my height is :  5.9\n"
     ]
    }
   ],
   "source": [
    "#variable\n",
    "\n",
    "#VariableName = value\n",
    "\n",
    "name = \"John\"\n",
    "age = 30\n",
    "height = 5.9\n",
    "\n",
    "print('my name is : ',name)\n",
    "print('my age is : ',age)\n",
    "print('my height is : ',height)\n"
   ]
  },
  {
   "cell_type": "code",
   "execution_count": 5,
   "id": "eda103d2",
   "metadata": {},
   "outputs": [
    {
     "name": "stdout",
     "output_type": "stream",
     "text": [
      "my name is :  John\n",
      "my age is :  67\n",
      "my height is :  7\n"
     ]
    }
   ],
   "source": [
    "#input()\n",
    "\n",
    "name = input(\"Enter your name: \")\n",
    "age = input(\"Enter your age: \")\n",
    "height = input(\"Enter your height: \")\n",
    "\n",
    "print('my name is : ',name)\n",
    "print('my age is : ',age)\n",
    "print('my height is : ',height)\n"
   ]
  },
  {
   "cell_type": "code",
   "execution_count": 6,
   "id": "bd6bbaa7",
   "metadata": {},
   "outputs": [
    {
     "name": "stdout",
     "output_type": "stream",
     "text": [
      "<class 'str'>\n"
     ]
    }
   ],
   "source": [
    "print(type(age))\n"
   ]
  },
  {
   "cell_type": "code",
   "execution_count": 7,
   "id": "748112e2",
   "metadata": {},
   "outputs": [
    {
     "name": "stdout",
     "output_type": "stream",
     "text": [
      "<class 'int'>\n"
     ]
    }
   ],
   "source": [
    "age = int(age)\n",
    "print(type(age))"
   ]
  }
 ],
 "metadata": {
  "kernelspec": {
   "display_name": "Python 3",
   "language": "python",
   "name": "python3"
  },
  "language_info": {
   "codemirror_mode": {
    "name": "ipython",
    "version": 3
   },
   "file_extension": ".py",
   "mimetype": "text/x-python",
   "name": "python",
   "nbconvert_exporter": "python",
   "pygments_lexer": "ipython3",
   "version": "3.13.4"
  }
 },
 "nbformat": 4,
 "nbformat_minor": 5
}
