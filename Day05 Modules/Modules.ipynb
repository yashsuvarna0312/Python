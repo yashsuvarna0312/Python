{
 "cells": [
  {
   "cell_type": "code",
   "execution_count": 1,
   "id": "92bd27f1",
   "metadata": {},
   "outputs": [],
   "source": [
    "# importing Modules\n",
    "\n",
    "# import maths module\n",
    "import math"
   ]
  },
  {
   "cell_type": "code",
   "execution_count": 2,
   "id": "2bf15fc4",
   "metadata": {},
   "outputs": [
    {
     "name": "stdout",
     "output_type": "stream",
     "text": [
      "0.9884320889261531\n",
      "2.15316056466364\n",
      "1.5707963267948966\n",
      "0.0\n",
      "3.141592653589793\n"
     ]
    }
   ],
   "source": [
    "print(math.acos(0.55))\n",
    "print(math.acos(-0.55))\n",
    "print(math.acos(0))\n",
    "print(math.acos(1))\n",
    "print(math.acos(-1))"
   ]
  },
  {
   "cell_type": "code",
   "execution_count": 4,
   "id": "7af46651",
   "metadata": {},
   "outputs": [
    {
     "name": "stdout",
     "output_type": "stream",
     "text": [
      "0.5823642378687435\n",
      "-0.5823642378687435\n",
      "0.0\n",
      "1.5707963267948966\n",
      "-1.5707963267948966\n"
     ]
    }
   ],
   "source": [
    "print(math.asin(0.55))\n",
    "print(math.asin(-0.55))\n",
    "print(math.asin(0))\n",
    "print(math.asin(1))\n",
    "print(math.asin(-1))"
   ]
  },
  {
   "cell_type": "code",
   "execution_count": 5,
   "id": "2665f552",
   "metadata": {},
   "outputs": [
    {
     "name": "stdout",
     "output_type": "stream",
     "text": [
      "2.6339157938496336\n",
      "4.71841914237288\n",
      "1.5447131178707394\n",
      "0.0\n"
     ]
    }
   ],
   "source": [
    "print (math.acosh(7))\n",
    "print (math.acosh(56))\n",
    "print (math.acosh(2.45))\n",
    "print (math.acosh(1))"
   ]
  },
  {
   "cell_type": "code",
   "execution_count": 6,
   "id": "29ea6f53",
   "metadata": {},
   "outputs": [
    {
     "name": "stdout",
     "output_type": "stream",
     "text": [
      "2.644120761058629\n",
      "4.718578581151767\n",
      "1.6284998192841909\n",
      "0.881373587019543\n"
     ]
    }
   ],
   "source": [
    "print(math.asinh(7))\n",
    "print(math.asinh(56))\n",
    "print(math.asinh(2.45))\n",
    "print(math.asinh(1))\n"
   ]
  },
  {
   "cell_type": "code",
   "execution_count": 7,
   "id": "8b1c7f26",
   "metadata": {},
   "outputs": [
    {
     "name": "stdout",
     "output_type": "stream",
     "text": [
      "0.37185607384858127\n",
      "1.5558720618048116\n",
      "-1.5232132235179132\n"
     ]
    }
   ],
   "source": [
    "print (math.atan(0.39))\n",
    "print (math.atan(67))\n",
    "print (math.atan(-21))"
   ]
  },
  {
   "cell_type": "code",
   "execution_count": 8,
   "id": "c8433208",
   "metadata": {},
   "outputs": [
    {
     "name": "stdout",
     "output_type": "stream",
     "text": [
      "1.0121970114513341\n",
      "1.1071487177940904\n",
      "1.7738415440483617\n"
     ]
    }
   ],
   "source": [
    "print(math.atan2(8, 5))\n",
    "print(math.atan2(20, 10))\n",
    "print(math.atan2(34, -7))"
   ]
  },
  {
   "cell_type": "code",
   "execution_count": 9,
   "id": "0456e5c9",
   "metadata": {},
   "outputs": [
    {
     "name": "stdout",
     "output_type": "stream",
     "text": [
      "0.6776660677579618\n",
      "-0.12058102840844402\n"
     ]
    }
   ],
   "source": [
    "print(math.atanh(0.59))\n",
    "print(math.atanh(-0.12))"
   ]
  },
  {
   "cell_type": "code",
   "execution_count": 10,
   "id": "162e4880",
   "metadata": {},
   "outputs": [
    {
     "name": "stdout",
     "output_type": "stream",
     "text": [
      "2\n",
      "6\n",
      "-5\n",
      "23\n",
      "10\n"
     ]
    }
   ],
   "source": [
    "print(math.ceil(1.4))\n",
    "print(math.ceil(5.3))\n",
    "print(math.ceil(-5.3))\n",
    "print(math.ceil(22.6))\n",
    "print(math.ceil(10.0))"
   ]
  },
  {
   "cell_type": "code",
   "execution_count": 11,
   "id": "70caa4ff",
   "metadata": {},
   "outputs": [
    {
     "name": "stdout",
     "output_type": "stream",
     "text": [
      "21\n"
     ]
    }
   ],
   "source": [
    "# Import math Library\n",
    "import math\n",
    "\n",
    "# Initialize the number of items to choose from\n",
    "n = 7\n",
    "\n",
    "# Initialize the number of possibilities to choose\n",
    "k = 5\n",
    "\n",
    "# Print total number of possible combinations\n",
    "print (math.comb(n, k))"
   ]
  },
  {
   "cell_type": "code",
   "execution_count": 12,
   "id": "9f1d0f0a",
   "metadata": {},
   "outputs": [
    {
     "name": "stdout",
     "output_type": "stream",
     "text": [
      "-4.0\n",
      "8.0\n",
      "-43.0\n"
     ]
    }
   ],
   "source": [
    "print(math.copysign(4, -1))\n",
    "print(math.copysign(-8, 97.21))\n",
    "print(math.copysign(-43, -76))"
   ]
  },
  {
   "cell_type": "code",
   "execution_count": 13,
   "id": "a21c15fd",
   "metadata": {},
   "outputs": [
    {
     "name": "stdout",
     "output_type": "stream",
     "text": [
      "1.0\n",
      "0.3342377271245026\n",
      "-0.8390715290764524\n",
      "-1.0\n"
     ]
    }
   ],
   "source": [
    "print (math.cos(0.00))\n",
    "print (math.cos(-1.23))\n",
    "print (math.cos(10))\n",
    "print (math.cos(3.14159265359))"
   ]
  },
  {
   "cell_type": "code",
   "execution_count": 14,
   "id": "553bd642",
   "metadata": {},
   "outputs": [
    {
     "name": "stdout",
     "output_type": "stream",
     "text": [
      "1.5430806348152437\n",
      "3665.986837772461\n",
      "1.0\n",
      "2.3954685410471868\n"
     ]
    }
   ],
   "source": [
    "print (math.cosh(1))\n",
    "print (math.cosh(8.90))\n",
    "print (math.cosh(0))\n",
    "print (math.cosh(1.52))"
   ]
  },
  {
   "cell_type": "code",
   "execution_count": 15,
   "id": "99a60c3a",
   "metadata": {},
   "outputs": [
    {
     "name": "stdout",
     "output_type": "stream",
     "text": [
      "509.9324376664327\n",
      "-1145.9155902616465\n",
      "57.29577951308232\n",
      "5156.620156177409\n"
     ]
    }
   ],
   "source": [
    "print (math.degrees(8.90))\n",
    "print (math.degrees(-20))\n",
    "print (math.degrees(1))\n",
    "print (math.degrees(90))"
   ]
  },
  {
   "cell_type": "code",
   "execution_count": 16,
   "id": "788df287",
   "metadata": {},
   "outputs": [
    {
     "name": "stdout",
     "output_type": "stream",
     "text": [
      "2.0\n",
      "9.486832980505138\n"
     ]
    }
   ],
   "source": [
    "# Import math Library\n",
    "import math\n",
    "\n",
    "p = [3]\n",
    "q = [1]\n",
    "\n",
    "# Calculate Euclidean distance\n",
    "print (math.dist(p, q))\n",
    "\n",
    "p = [3, 3]\n",
    "q = [6, 12]\n",
    "\n",
    "# Calculate Euclidean distance\n",
    "print (math.dist(p, q))"
   ]
  },
  {
   "cell_type": "code",
   "execution_count": 17,
   "id": "fa3a171c",
   "metadata": {},
   "outputs": [
    {
     "name": "stdout",
     "output_type": "stream",
     "text": [
      "362880\n",
      "720\n",
      "479001600\n"
     ]
    }
   ],
   "source": [
    "print(math.factorial(9))\n",
    "print(math.factorial(6))\n",
    "print(math.factorial(12))"
   ]
  },
  {
   "cell_type": "code",
   "execution_count": 18,
   "id": "1a0fde73",
   "metadata": {},
   "outputs": [
    {
     "name": "stdout",
     "output_type": "stream",
     "text": [
      "0.43429738512450866\n",
      "0.3010299956639812\n",
      "0.0\n"
     ]
    }
   ],
   "source": [
    "print(math.log10(2.7183))\n",
    "print(math.log10(2))\n",
    "print(math.log10(1))"
   ]
  },
  {
   "cell_type": "code",
   "execution_count": 35,
   "id": "a8cc5cc3",
   "metadata": {},
   "outputs": [
    {
     "name": "stdout",
     "output_type": "stream",
     "text": [
      "9\n"
     ]
    }
   ],
   "source": [
    "import random \n",
    " # generate a random number between 1 and 10\n",
    "print(random.randint(1, 10))"
   ]
  }
 ],
 "metadata": {
  "kernelspec": {
   "display_name": "Python 3",
   "language": "python",
   "name": "python3"
  },
  "language_info": {
   "codemirror_mode": {
    "name": "ipython",
    "version": 3
   },
   "file_extension": ".py",
   "mimetype": "text/x-python",
   "name": "python",
   "nbconvert_exporter": "python",
   "pygments_lexer": "ipython3",
   "version": "3.13.4"
  }
 },
 "nbformat": 4,
 "nbformat_minor": 5
}
