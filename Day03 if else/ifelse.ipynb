{
 "cells": [
  {
   "cell_type": "code",
   "execution_count": 1,
   "id": "f181a080",
   "metadata": {},
   "outputs": [
    {
     "name": "stdout",
     "output_type": "stream",
     "text": [
      "28 is the smallest number\n"
     ]
    }
   ],
   "source": [
    "# find the smallest \n",
    "\n",
    "number1 = 39\n",
    "number2 = 28\n",
    "if(number1 < number2):\n",
    "    print(number1, \"is the smallest number\")\n",
    "else:\n",
    "    print(number2, \"is the smallest number\")"
   ]
  },
  {
   "cell_type": "code",
   "execution_count": 16,
   "id": "5a6b6f70",
   "metadata": {},
   "outputs": [
    {
     "name": "stdout",
     "output_type": "stream",
     "text": [
      "50 is the smallest no\n"
     ]
    }
   ],
   "source": [
    "#Find the smallest three numbers\n",
    "\n",
    "a=50\n",
    "b=56\n",
    "c=69\n",
    "\n",
    "if(a<b):\n",
    "    print(a,\"is the smallest no\")\n",
    "elif(a>c):\n",
    "    print(c,\"is the smallest no\")\n",
    "else:\n",
    "    print(b,\"is the smallest no\")"
   ]
  }
 ],
 "metadata": {
  "kernelspec": {
   "display_name": "Python 3",
   "language": "python",
   "name": "python3"
  },
  "language_info": {
   "codemirror_mode": {
    "name": "ipython",
    "version": 3
   },
   "file_extension": ".py",
   "mimetype": "text/x-python",
   "name": "python",
   "nbconvert_exporter": "python",
   "pygments_lexer": "ipython3",
   "version": "3.13.4"
  }
 },
 "nbformat": 4,
 "nbformat_minor": 5
}
